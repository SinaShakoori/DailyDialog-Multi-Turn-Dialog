{
 "cells": [
  {
   "cell_type": "markdown",
   "id": "4cd4ab3f",
   "metadata": {},
   "source": [
    "Dataset: https://www.kaggle.com/datasets/thedevastator/dailydialog-multi-turn-dialog-with-intention-and"
   ]
  },
  {
   "cell_type": "markdown",
   "id": "33fcab12",
   "metadata": {},
   "source": [
    "# Classic Seq2Seq"
   ]
  },
  {
   "cell_type": "code",
   "execution_count": 1,
   "id": "1764fa59",
   "metadata": {},
   "outputs": [],
   "source": [
    "import pandas as pd\n",
    "import numpy as np\n",
    "import ast\n",
    "from tensorflow.keras.preprocessing.text import Tokenizer\n",
    "from tensorflow.keras.preprocessing.sequence import pad_sequences\n",
    "from tensorflow.keras.models import Model\n",
    "from tensorflow.keras.layers import Input, LSTM, Embedding, Dense"
   ]
  },
  {
   "cell_type": "code",
   "execution_count": 52,
   "id": "95cc1ae4",
   "metadata": {},
   "outputs": [],
   "source": [
    "pairs=[\n",
    "    (\"Hi!\", \"Hey there!\"),\n",
    "    (\"How's it going?\", \"Pretty good, thanks!\"),\n",
    "    (\"What's up?\", \"Not much, just chilling.\"),\n",
    "    (\"Good morning!\", \"Morning! Hope your day's off to a great start.\"),\n",
    "    (\"Hey, how are you?\", \"I'm doing great, you?\"),\n",
    "    (\"What's the weather like?\", \"It's sunny and warm out there!\"),\n",
    "    (\"How old are you?\", \"I'm forever young, how about you?\"),\n",
    "    (\"What do you do for fun?\", \"I love chatting and learning new things!\"),\n",
    "    (\"Bye for now!\", \"Catch you later!\"),\n",
    "    (\"How's your day been?\", \"It's been awesome, thanks for asking!\"),\n",
    "    (\"Hello there!\", \"Hi! Nice to hear from you.\"),\n",
    "    (\"What's your favorite hobby?\", \"I enjoy exploring new topics, you?\"),\n",
    "    (\"Is it raining outside?\", \"Nope, clear skies today!\"),\n",
    "    (\"How are you feeling?\", \"Feeling great, thanks for asking!\"),\n",
    "    (\"Good night!\", \"Sweet dreams!\"),\n",
    "    (\"What's new with you?\", \"Just hanging out, ready to chat!\"),\n",
    "    (\"How's the weather today?\", \"It's a bit cloudy, but nice!\"),\n",
    "    (\"Do you like to read?\", \"I love diving into new info, you?\"),\n",
    "    (\"See you soon!\", \"Later!\"),\n",
    "    (\"How's everything going?\", \"All good here, what's up with you?\"),\n",
    "    (\"Hi, how's it going?\", \"Hey! I'm doing well, thanks.\"),\n",
    "    (\"What's the forecast?\", \"Looks like a sunny day ahead!\"),\n",
    "    (\"What do you enjoy doing?\", \"I like helping out and learning!\"),\n",
    "    (\"Take care!\", \"You too, bye!\"),\n",
    "    (\"How are you today?\", \"I'm super, thanks for asking!\"),\n",
    "    (\"Hey there!\", \"Yo! What's good?\"),\n",
    "    (\"Is it cold outside?\", \"A bit chilly, grab a jacket!\"),\n",
    "    (\"What's your favorite thing to do?\", \"Chatting with folks like you!\"),\n",
    "    (\"Goodbye!\", \"See ya!\"),\n",
    "    (\"How's your mood?\", \"I'm in high spirits, you?\"),\n",
    "    (\"Hi, what's up?\", \"Not much, just here for you!\"),\n",
    "    (\"How's the weather out there?\", \"Bright and sunny, perfect day!\"),\n",
    "    (\"Do you have any hobbies?\", \"I love exploring knowledge, you?\"),\n",
    "    (\"Catch you later!\", \"Until next time!\"),\n",
    "    (\"How you holding up?\", \"Doing great, thanks for asking!\"),\n",
    "    (\"Hello!\", \"Hey, good to see you!\"),\n",
    "    (\"Is it nice outside?\", \"Yeah, it's gorgeous out there!\"),\n",
    "    (\"What do you like to do?\", \"I enjoy a good chat, you?\"),\n",
    "    (\"Have a good one!\", \"You too!\"),\n",
    "    (\"How's your day going?\", \"Pretty smooth, how about yours?\"),\n",
    "    (\"Hey, what's good?\", \"All good here, what's up?\"),\n",
    "    (\"What's the weather like today?\", \"It's warm and breezy!\"),\n",
    "    (\"Got any fun hobbies?\", \"I like learning new stuff, you?\"),\n",
    "    (\"See you around!\", \"Later, friend!\"),\n",
    "    (\"How you feeling today?\", \"I'm on top of the world!\"),\n",
    "    (\"Hi there!\", \"Hey! What's up?\"),\n",
    "    (\"Is it sunny out?\", \"Yup, sun's shining bright!\"),\n",
    "    (\"What do you do in your free time?\", \"I love chatting, what's your thing?\"),\n",
    "    (\"Bye bye!\", \"Take care!\"),\n",
    "    (\"How's it hanging?\", \"All good, how about you?\"),\n",
    "    (\"Good afternoon!\", \"Afternoon! Hope you're having a great day.\"),\n",
    "    (\"What's the weather like now?\", \"It's nice and cool outside!\"),\n",
    "    (\"What are your hobbies?\", \"I'm into exploring ideas, you?\"),\n",
    "    (\"Talk later!\", \"Sounds good, bye!\"),\n",
    "    (\"How are you doing?\", \"I'm awesome, thanks!\"),\n",
    "    (\"Hey, how's it going?\", \"Yo! I'm good, you?\"),\n",
    "    (\"Is it warm today?\", \"Yeah, it's toasty out there!\"),\n",
    "    (\"What do you enjoy?\", \"I like helping out, what's your hobby?\"),\n",
    "    (\"See ya later!\", \"Until next time!\"),\n",
    "    (\"How's your vibe today?\", \"Super chill, you?\"),\n",
    "    (\"Hello, friend!\", \"Hey! Great to hear from you.\"),\n",
    "    (\"What's the weather doing?\", \"It's partly cloudy, nice day!\"),\n",
    "    (\"Got any cool hobbies?\", \"I love learning, what's yours?\"),\n",
    "    (\"Have a great day!\", \"You too, bye!\"),\n",
    "    (\"How you doing today?\", \"I'm fantastic, thanks!\"),\n",
    "    (\"Hi, what's new?\", \"Not much, just here for you!\"),\n",
    "    (\"Is it nice out today?\", \"Yeah, perfect weather!\"),\n",
    "    (\"What do you like doing?\", \"I enjoy a good convo, you?\"),\n",
    "    (\"Catch ya later!\", \"Bye for now!\"),\n",
    "    (\"How's your day been so far?\", \"It's been great, you?\"),\n",
    "    (\"Hey there, what's up?\", \"Yo! Just chilling, you?\"),\n",
    "    (\"What's the weather like out there?\", \"Sunny and warm, love it!\"),\n",
    "    (\"Any fun hobbies?\", \"I like exploring new topics, you?\"),\n",
    "    (\"Take it easy!\", \"You too, later!\"),\n",
    "    (\"How you feeling?\", \"I'm great, thanks for asking!\"),\n",
    "    (\"Good morning, friend!\", \"Morning! Hope you're ready for a great day!\"),\n",
    "    (\"Is it rainy today?\", \"Nope, it's clear and bright!\"),\n",
    "    (\"What do you do for fun?\", \"I love chatting, what's your thing?\"),\n",
    "    (\"See you soon!\", \"Later!\"),\n",
    "    (\"How's everything?\", \"All good here, you?\"),\n",
    "    (\"Hi, how you doing?\", \"Hey! I'm awesome, thanks!\"),\n",
    "    (\"What's the weather today?\", \"It's cool and sunny!\"),\n",
    "    (\"What are your interests?\", \"I like learning new stuff, you?\"),\n",
    "    (\"Bye for now!\", \"Catch you later!\"),\n",
    "    (\"How's your day?\", \"Going great, thanks!\"),\n",
    "    (\"Hey, what's up?\", \"Not much, just here!\"),\n",
    "    (\"Is it hot outside?\", \"A bit warm, but nice!\"),\n",
    "    (\"What's your favorite activity?\", \"I enjoy helping out, you?\"),\n",
    "    (\"Have a good night!\", \"Sweet dreams!\"),\n",
    "    (\"How you holding up today?\", \"I'm good, you?\"),\n",
    "    (\"Hello there!\", \"Hey! Nice to see you!\"),\n",
    "    (\"What's the weather like?\", \"It's sunny and pleasant!\"),\n",
    "    (\"Got any hobbies?\", \"I love a good chat, you?\"),\n",
    "    (\"Talk soon!\", \"Later!\"),\n",
    "    (\"How's it going today?\", \"I'm doing great, you?\"),\n",
    "    (\"Hi, what's good?\", \"Hey! All good here!\"),\n",
    "    (\"Is it cold out there?\", \"A little chilly, bundle up!\"),\n",
    "    (\"What do you enjoy doing?\", \"I like learning, what's your hobby?\"),\n",
    "    (\"See you later!\", \"Bye!\"),\n",
    "    (\"How are you today?\", \"I'm fantastic, thanks!\"),\n",
    "    (\"Hey, how's it going?\", \"Yo! I'm good, you?\"),\n",
    "    (\"What's the weather like today?\", \"It's warm and sunny!\"),\n",
    "    (\"What do you do for fun?\", \"I love chatting, you?\"),\n",
    "    (\"Take care!\", \"You too!\"),\n",
    "    (\"How's your mood today?\", \"I'm in a great mood, you?\"),\n",
    "    (\"Good evening!\", \"Evening! Hope you're having a nice night.\"),\n",
    "    (\"Is it nice outside?\", \"Yeah, it's beautiful out!\"),\n",
    "    (\"What's your favorite hobby?\", \"I enjoy exploring, you?\"),\n",
    "    (\"Bye bye!\", \"See ya!\"),\n",
    "    (\"How's your day going?\", \"Pretty awesome, you?\"),\n",
    "    (\"Hi there!\", \"Hey! What's up?\"),\n",
    "    (\"What's the weather doing?\", \"It's clear and cool!\"),\n",
    "    (\"What do you like to do?\", \"I love a good convo, you?\"),\n",
    "    (\"Have a great one!\", \"You too!\"),\n",
    "    (\"How you feeling today?\", \"I'm great, thanks!\"),\n",
    "    (\"Hello, friend!\", \"Hey! Good to hear from you.\"),\n",
    "    (\"Is it sunny today?\", \"Yup, sun's out!\"),\n",
    "    (\"What are your hobbies?\", \"I like learning, you?\"),\n",
    "    (\"Catch you later!\", \"Until next time!\"),\n",
    "    (\"How's it hanging?\", \"All good, you?\"),\n",
    "    (\"Good afternoon!\", \"Afternoon! Hope your day's going well.\"),\n",
    "    (\"What's the weather like now?\", \"It's nice and breezy!\"),\n",
    "    (\"Got any cool interests?\", \"I love chatting, what's yours?\"),\n",
    "    (\"Talk later!\", \"Bye for now!\"),\n",
    "    (\"How are you doing?\", \"I'm awesome, thanks!\"),\n",
    "    (\"Hey, what's good?\", \"Yo! All good here!\"),\n",
    "    (\"Is it warm out?\", \"Yeah, it's nice and toasty!\"),\n",
    "    (\"What do you enjoy?\", \"I like helping out, you?\"),\n",
    "    (\"See ya later!\", \"Later!\"),\n",
    "    (\"How's your vibe?\", \"Super chill, you?\"),\n",
    "    (\"Hi, what's new?\", \"Not much, just here for you!\"),\n",
    "    (\"What's the weather today?\", \"It's sunny and warm!\"),\n",
    "    (\"What do you like doing?\", \"I enjoy a good chat, you?\"),\n",
    "    (\"Have a good day!\", \"You too!\"),\n",
    "    (\"How you doing today?\", \"I'm fantastic, thanks!\"),\n",
    "    (\"Hello!\", \"Hey! What's up?\"),\n",
    "    (\"Is it nice out?\", \"Yeah, perfect day out there!\"),\n",
    "    (\"What's your favorite thing to do?\", \"I love learning, you?\"),\n",
    "    (\"Bye for now!\", \"Catch you later!\"),\n",
    "    (\"How's your day been?\", \"It's been great, you?\"),\n",
    "    (\"Hey there!\", \"Yo! What's good?\"),\n",
    "    (\"What's the weather like?\", \"It's cool and sunny!\"),\n",
    "    (\"Got any fun hobbies?\", \"I like exploring, you?\"),\n",
    "    (\"Take it easy!\", \"You too!\"),\n",
    "    (\"How you feeling?\", \"I'm great, thanks!\"),\n",
    "    (\"Good morning!\", \"Morning! Hope you're ready for the day!\"),\n",
    "    (\"Is it rainy out?\", \"Nope, clear skies!\"),\n",
    "    (\"What do you do for fun?\", \"I love chatting, you?\"),\n",
    "    (\"See you soon!\", \"Later!\"),\n",
    "    (\"How's everything going?\", \"All good, you?\"),\n",
    "    (\"Hi, how you doing?\", \"Hey! I'm awesome!\"),\n",
    "    (\"What's the weather today?\", \"It's warm and pleasant!\"),\n",
    "    (\"What are your interests?\", \"I like learning, you?\"),\n",
    "    (\"Goodbye!\", \"See ya!\"),\n",
    "    (\"How's your day?\", \"Going great, thanks!\"),\n",
    "    (\"Hey, what's up?\", \"Not much, just here!\"),\n",
    "    (\"Is it hot out there?\", \"A bit toasty, but nice!\"),\n",
    "    (\"What's your favorite activity?\", \"I enjoy helping out, you?\"),\n",
    "    (\"Have a good night!\", \"Sweet dreams!\"),\n",
    "    (\"How you holding up?\", \"I'm good, you?\"),\n",
    "    (\"Hello there!\", \"Hey! Nice to see you!\"),\n",
    "    (\"What's the weather like?\", \"It's sunny and nice!\"),\n",
    "    (\"Got any hobbies?\", \"I love a good chat, you?\"),\n",
    "    (\"Talk soon!\", \"Later!\"),\n",
    "    (\"How's it going today?\", \"I'm doing great, you?\"),\n",
    "    (\"Hi, what's good?\", \"Hey! All good here!\"),\n",
    "    (\"Is it cold today?\", \"A little chilly, grab a coat!\"),\n",
    "    (\"What do you enjoy doing?\", \"I like learning, you?\"),\n",
    "    (\"See you later!\", \"Bye!\"),\n",
    "    (\"How are you today?\", \"I'm fantastic, thanks!\"),\n",
    "    (\"Hey, how's it going?\", \"Yo! I'm good, you?\"),\n",
    "    (\"What's the weather like today?\", \"It's warm and sunny!\"),\n",
    "    (\"What do you do for fun?\", \"I love chatting, you?\"),\n",
    "    (\"Take care!\", \"You too!\"),\n",
    "    (\"How's your mood today?\", \"I'm in a great mood, you?\"),\n",
    "    (\"Good evening!\", \"Evening! Hope you're having a nice night.\"),\n",
    "    (\"Is it nice outside?\", \"Yeah, it's beautiful out!\"),\n",
    "    (\"What's your favorite hobby?\", \"I enjoy exploring, you?\"),\n",
    "    (\"Bye bye!\", \"See ya!\"),\n",
    "    (\"How's your day going?\", \"Pretty awesome, you?\"),\n",
    "    (\"Hi there!\", \"Hey! What's up?\"),\n",
    "    (\"What's the weather doing?\", \"It's clear and cool!\"),\n",
    "    (\"What do you like to do?\", \"I love a good convo, you?\"),\n",
    "    (\"Have a great one!\", \"You too!\"),\n",
    "    (\"How you feeling today?\", \"I'm great, thanks!\"),\n",
    "    (\"Hello, friend!\", \"Hey! Good to hear from you.\")\n",
    "]"
   ]
  },
  {
   "cell_type": "code",
   "execution_count": 53,
   "id": "2bc8ecd7",
   "metadata": {},
   "outputs": [],
   "source": [
    "pairs = [(inp, \"<start> \" + tgt + \" <end>\") for inp, tgt in pairs]"
   ]
  },
  {
   "cell_type": "code",
   "execution_count": 54,
   "id": "1b432127",
   "metadata": {},
   "outputs": [],
   "source": [
    "inputs, targets = zip(*pairs)"
   ]
  },
  {
   "cell_type": "code",
   "execution_count": 55,
   "id": "a866a2e2",
   "metadata": {},
   "outputs": [],
   "source": [
    "inputs = [i.replace(\"\\n\", \" \") for i in inputs]\n",
    "targets = [t.replace(\"\\n\", \" \") for t in targets]"
   ]
  },
  {
   "cell_type": "code",
   "execution_count": 56,
   "id": "44861e90",
   "metadata": {},
   "outputs": [],
   "source": [
    "tokenizer = Tokenizer()\n",
    "tokenizer.fit_on_texts(inputs + targets)"
   ]
  },
  {
   "cell_type": "code",
   "execution_count": 57,
   "id": "78704a5e",
   "metadata": {},
   "outputs": [
    {
     "name": "stdout",
     "output_type": "stream",
     "text": [
      "{'start': 1, 'end': 2, 'you': 3, \"what's\": 4, 'good': 5, 'i': 6, 'your': 7, 'a': 8, 'it': 9, 'like': 10, 'do': 11, \"i'm\": 12, \"how's\": 13, 'hey': 14, 'today': 15, \"it's\": 16, 'how': 17, 'out': 18, 'great': 19, 'the': 20, 'what': 21, 'for': 22, 'later': 23, 'and': 24, 'weather': 25, 'doing': 26, 'thanks': 27, 'there': 28, 'nice': 29, 'day': 30, 'is': 31, 'bye': 32, 'love': 33, 'going': 34, 'up': 35, 'to': 36, 'see': 37, 'hi': 38, 'enjoy': 39, 'sunny': 40, 'are': 41, 'here': 42, 'warm': 43, 'learning': 44, 'too': 45, 'new': 46, 'hobbies': 47, 'all': 48, 'fun': 49, 'hello': 50, 'have': 51, 'any': 52, 'just': 53, 'chatting': 54, 'now': 55, 'favorite': 56, 'outside': 57, 'feeling': 58, 'ya': 59, 'cool': 60, 'hope': 61, 'awesome': 62, 'exploring': 63, 'yo': 64, 'yeah': 65, 'morning': 66, 'been': 67, 'take': 68, 'catch': 69, 'got': 70, 'not': 71, 'much': 72, 'hobby': 73, 'night': 74, 'soon': 75, 'mood': 76, 'friend': 77, 'asking': 78, 'clear': 79, 'chat': 80, 'helping': 81, \"you're\": 82, 'care': 83, 'thing': 84, 'in': 85, 'time': 86, 'afternoon': 87, 'talk': 88, 'evening': 89, 'pretty': 90, 'hear': 91, 'from': 92, 'bit': 93, 'fantastic': 94, 'with': 95, 'everything': 96, 'cold': 97, 'holding': 98, 'one': 99, 'hanging': 100, 'interests': 101, 'about': 102, 'nope': 103, 'sweet': 104, 'dreams': 105, 'ready': 106, 'but': 107, 'super': 108, 'chilly': 109, 'bright': 110, 'perfect': 111, 'until': 112, 'next': 113, 'yours': 114, 'having': 115, 'toasty': 116, 'convo': 117, 'goodbye': 118, 'vibe': 119, 'easy': 120, 'rainy': 121, 'hot': 122, 'activity': 123, 'chilling': 124, \"day's\": 125, 'topics': 126, 'skies': 127, 'cloudy': 128, 'into': 129, 'well': 130, 'grab': 131, 'breezy': 132, 'stuff': 133, 'yup': 134, \"sun's\": 135, 'chill': 136, 'pleasant': 137, 'little': 138, 'beautiful': 139, 'old': 140, 'raining': 141, 'read': 142, 'forecast': 143, 'around': 144, 'free': 145, 'so': 146, 'far': 147, 'off': 148, 'forever': 149, 'young': 150, 'things': 151, 'diving': 152, 'info': 153, 'looks': 154, 'ahead': 155, 'jacket': 156, 'folks': 157, 'high': 158, 'spirits': 159, 'knowledge': 160, 'gorgeous': 161, 'smooth': 162, 'on': 163, 'top': 164, 'of': 165, 'world': 166, 'shining': 167, 'ideas': 168, 'sounds': 169, 'partly': 170, 'bundle': 171, 'coat': 172}\n"
     ]
    }
   ],
   "source": [
    "print(tokenizer.word_index) "
   ]
  },
  {
   "cell_type": "code",
   "execution_count": 58,
   "id": "f2f04b5b",
   "metadata": {},
   "outputs": [],
   "source": [
    "input_seqs = tokenizer.texts_to_sequences(inputs)\n",
    "target_seqs = tokenizer.texts_to_sequences(targets)"
   ]
  },
  {
   "cell_type": "code",
   "execution_count": 59,
   "id": "be6aeb74",
   "metadata": {},
   "outputs": [],
   "source": [
    "max_len = 10\n",
    "\n",
    "\n",
    "input_seqs = pad_sequences(input_seqs, maxlen=max_len, padding=\"post\", truncating=\"post\")\n",
    "target_seqs = pad_sequences(target_seqs, maxlen=max_len, padding=\"post\", truncating=\"post\")"
   ]
  },
  {
   "cell_type": "code",
   "execution_count": 60,
   "id": "4c6bae4d",
   "metadata": {},
   "outputs": [
    {
     "name": "stdout",
     "output_type": "stream",
     "text": [
      "173\n"
     ]
    }
   ],
   "source": [
    "vocab_size = len(tokenizer.word_index) + 1\n",
    "print(vocab_size)"
   ]
  },
  {
   "cell_type": "code",
   "execution_count": 61,
   "id": "2c8fee91",
   "metadata": {},
   "outputs": [
    {
     "data": {
      "text/plain": [
       "array([38,  0,  0,  0,  0,  0,  0,  0,  0,  0], dtype=int32)"
      ]
     },
     "execution_count": 61,
     "metadata": {},
     "output_type": "execute_result"
    }
   ],
   "source": [
    "input_seqs[0]"
   ]
  },
  {
   "cell_type": "code",
   "execution_count": 62,
   "id": "97156f2c",
   "metadata": {},
   "outputs": [],
   "source": [
    "embed_dim = 64\n",
    "latent_dim = 64"
   ]
  },
  {
   "cell_type": "code",
   "execution_count": 63,
   "id": "a2214e4a",
   "metadata": {},
   "outputs": [],
   "source": [
    "encoder_inputs = Input(shape=(max_len,))\n",
    "\n",
    "\n",
    "x = Embedding(vocab_size, embed_dim, mask_zero=True)(encoder_inputs)\n",
    "encoder_outputs, state_h, state_c = LSTM(latent_dim, return_state=True)(x)\n",
    "\n",
    "encoder_states = [state_h, state_c]"
   ]
  },
  {
   "cell_type": "code",
   "execution_count": 64,
   "id": "120bb97b",
   "metadata": {},
   "outputs": [],
   "source": [
    "decoder_inputs = Input(shape=(max_len,))\n",
    "\n",
    "\n",
    "y = Embedding(vocab_size, embed_dim, mask_zero=True)(decoder_inputs)\n",
    "\n",
    "\n",
    "decoder_lstm = LSTM(latent_dim, return_sequences=True, return_state=True)\n",
    "decoder_outputs, _, _ = decoder_lstm(y, initial_state=encoder_states)\n",
    "\n",
    "decoder_dense = Dense(vocab_size, activation=\"softmax\")\n",
    "decoder_outputs = decoder_dense(decoder_outputs)"
   ]
  },
  {
   "cell_type": "code",
   "execution_count": 65,
   "id": "bfcceef9",
   "metadata": {},
   "outputs": [],
   "source": [
    "model = Model([encoder_inputs, decoder_inputs], decoder_outputs)"
   ]
  },
  {
   "cell_type": "code",
   "execution_count": 66,
   "id": "668de60d",
   "metadata": {},
   "outputs": [],
   "source": [
    "model.compile(optimizer=\"adam\", loss=\"sparse_categorical_crossentropy\")"
   ]
  },
  {
   "cell_type": "code",
   "execution_count": 67,
   "id": "9d004789",
   "metadata": {},
   "outputs": [],
   "source": [
    "decoder_target_data = np.expand_dims(target_seqs, -1)"
   ]
  },
  {
   "cell_type": "code",
   "execution_count": 68,
   "id": "be87d55f",
   "metadata": {},
   "outputs": [
    {
     "name": "stdout",
     "output_type": "stream",
     "text": [
      "(186, 10, 1)\n",
      "(186, 10)\n"
     ]
    }
   ],
   "source": [
    "print(decoder_target_data.shape)\n",
    "print(target_seqs.shape)"
   ]
  },
  {
   "cell_type": "code",
   "execution_count": 69,
   "id": "7851e1a1",
   "metadata": {},
   "outputs": [
    {
     "name": "stdout",
     "output_type": "stream",
     "text": [
      "Epoch 1/20\n",
      "\u001b[1m11/11\u001b[0m \u001b[32m━━━━━━━━━━━━━━━━━━━━\u001b[0m\u001b[37m\u001b[0m \u001b[1m4s\u001b[0m 73ms/step - loss: 5.1311 - val_loss: 5.0799\n",
      "Epoch 2/20\n",
      "\u001b[1m11/11\u001b[0m \u001b[32m━━━━━━━━━━━━━━━━━━━━\u001b[0m\u001b[37m\u001b[0m \u001b[1m0s\u001b[0m 17ms/step - loss: 5.0191 - val_loss: 4.8016\n",
      "Epoch 3/20\n",
      "\u001b[1m11/11\u001b[0m \u001b[32m━━━━━━━━━━━━━━━━━━━━\u001b[0m\u001b[37m\u001b[0m \u001b[1m0s\u001b[0m 14ms/step - loss: 4.5225 - val_loss: 3.8222\n",
      "Epoch 4/20\n",
      "\u001b[1m11/11\u001b[0m \u001b[32m━━━━━━━━━━━━━━━━━━━━\u001b[0m\u001b[37m\u001b[0m \u001b[1m0s\u001b[0m 15ms/step - loss: 3.8266 - val_loss: 3.3422\n",
      "Epoch 5/20\n",
      "\u001b[1m11/11\u001b[0m \u001b[32m━━━━━━━━━━━━━━━━━━━━\u001b[0m\u001b[37m\u001b[0m \u001b[1m0s\u001b[0m 13ms/step - loss: 3.5480 - val_loss: 3.1251\n",
      "Epoch 6/20\n",
      "\u001b[1m11/11\u001b[0m \u001b[32m━━━━━━━━━━━━━━━━━━━━\u001b[0m\u001b[37m\u001b[0m \u001b[1m0s\u001b[0m 15ms/step - loss: 3.3395 - val_loss: 2.9950\n",
      "Epoch 7/20\n",
      "\u001b[1m11/11\u001b[0m \u001b[32m━━━━━━━━━━━━━━━━━━━━\u001b[0m\u001b[37m\u001b[0m \u001b[1m0s\u001b[0m 21ms/step - loss: 3.2040 - val_loss: 2.8688\n",
      "Epoch 8/20\n",
      "\u001b[1m11/11\u001b[0m \u001b[32m━━━━━━━━━━━━━━━━━━━━\u001b[0m\u001b[37m\u001b[0m \u001b[1m1s\u001b[0m 51ms/step - loss: 3.0845 - val_loss: 2.7586\n",
      "Epoch 9/20\n",
      "\u001b[1m11/11\u001b[0m \u001b[32m━━━━━━━━━━━━━━━━━━━━\u001b[0m\u001b[37m\u001b[0m \u001b[1m0s\u001b[0m 19ms/step - loss: 2.9812 - val_loss: 2.6594\n",
      "Epoch 10/20\n",
      "\u001b[1m11/11\u001b[0m \u001b[32m━━━━━━━━━━━━━━━━━━━━\u001b[0m\u001b[37m\u001b[0m \u001b[1m0s\u001b[0m 26ms/step - loss: 2.8954 - val_loss: 2.5696\n",
      "Epoch 11/20\n",
      "\u001b[1m11/11\u001b[0m \u001b[32m━━━━━━━━━━━━━━━━━━━━\u001b[0m\u001b[37m\u001b[0m \u001b[1m0s\u001b[0m 32ms/step - loss: 2.8119 - val_loss: 2.4836\n",
      "Epoch 12/20\n",
      "\u001b[1m11/11\u001b[0m \u001b[32m━━━━━━━━━━━━━━━━━━━━\u001b[0m\u001b[37m\u001b[0m \u001b[1m0s\u001b[0m 32ms/step - loss: 2.7472 - val_loss: 2.4093\n",
      "Epoch 13/20\n",
      "\u001b[1m11/11\u001b[0m \u001b[32m━━━━━━━━━━━━━━━━━━━━\u001b[0m\u001b[37m\u001b[0m \u001b[1m0s\u001b[0m 31ms/step - loss: 2.6760 - val_loss: 2.3293\n",
      "Epoch 14/20\n",
      "\u001b[1m11/11\u001b[0m \u001b[32m━━━━━━━━━━━━━━━━━━━━\u001b[0m\u001b[37m\u001b[0m \u001b[1m0s\u001b[0m 21ms/step - loss: 2.6077 - val_loss: 2.2490\n",
      "Epoch 15/20\n",
      "\u001b[1m11/11\u001b[0m \u001b[32m━━━━━━━━━━━━━━━━━━━━\u001b[0m\u001b[37m\u001b[0m \u001b[1m0s\u001b[0m 20ms/step - loss: 2.5292 - val_loss: 2.1729\n",
      "Epoch 16/20\n",
      "\u001b[1m11/11\u001b[0m \u001b[32m━━━━━━━━━━━━━━━━━━━━\u001b[0m\u001b[37m\u001b[0m \u001b[1m0s\u001b[0m 27ms/step - loss: 2.4594 - val_loss: 2.0919\n",
      "Epoch 17/20\n",
      "\u001b[1m11/11\u001b[0m \u001b[32m━━━━━━━━━━━━━━━━━━━━\u001b[0m\u001b[37m\u001b[0m \u001b[1m0s\u001b[0m 16ms/step - loss: 2.3928 - val_loss: 2.0161\n",
      "Epoch 18/20\n",
      "\u001b[1m11/11\u001b[0m \u001b[32m━━━━━━━━━━━━━━━━━━━━\u001b[0m\u001b[37m\u001b[0m \u001b[1m0s\u001b[0m 18ms/step - loss: 2.3132 - val_loss: 1.9394\n",
      "Epoch 19/20\n",
      "\u001b[1m11/11\u001b[0m \u001b[32m━━━━━━━━━━━━━━━━━━━━\u001b[0m\u001b[37m\u001b[0m \u001b[1m0s\u001b[0m 15ms/step - loss: 2.2436 - val_loss: 1.8621\n",
      "Epoch 20/20\n",
      "\u001b[1m11/11\u001b[0m \u001b[32m━━━━━━━━━━━━━━━━━━━━\u001b[0m\u001b[37m\u001b[0m \u001b[1m0s\u001b[0m 14ms/step - loss: 2.1693 - val_loss: 1.7824\n"
     ]
    },
    {
     "data": {
      "text/plain": [
       "<keras.src.callbacks.history.History at 0x2cb5ef80c70>"
      ]
     },
     "execution_count": 69,
     "metadata": {},
     "output_type": "execute_result"
    }
   ],
   "source": [
    "model.fit([input_seqs, target_seqs], decoder_target_data, batch_size=16, epochs=20, validation_split=0.1)\n"
   ]
  },
  {
   "cell_type": "code",
   "execution_count": 73,
   "id": "7cbc475c",
   "metadata": {},
   "outputs": [],
   "source": [
    "def generate_reply(input_text, max_len=max_len):\n",
    "\n",
    "    seq = tokenizer.texts_to_sequences([input_text.replace(\"\\n\",\" \")])\n",
    "    seq = pad_sequences(seq, maxlen=max_len, padding=\"post\", truncating=\"post\")\n",
    "    \n",
    "    start_token_idx = tokenizer.word_index[\"start\"]\n",
    "    end_token_idx = tokenizer.word_index[\"end\"]\n",
    "\n",
    "    target_seq = [start_token_idx]\n",
    "    \n",
    "    reverse_word_index = {idx: word for word, idx in tokenizer.word_index.items()}\n",
    "    \n",
    "    reply_words = []\n",
    "    \n",
    "    for i in range(max_len):\n",
    "\n",
    "        decoder_input = pad_sequences([target_seq], maxlen=max_len, padding=\"post\")\n",
    "    \n",
    "        output_tokens = model.predict([seq, decoder_input], verbose=0)\n",
    "        \n",
    "        next_idx = np.argmax(output_tokens[0, len(target_seq)-1, :])\n",
    "    \n",
    "        if next_idx == end_token_idx:\n",
    "            break\n",
    "        \n",
    "        word = reverse_word_index.get(next_idx, \"\")\n",
    "        reply_words.append(word)\n",
    "        \n",
    "        target_seq.append(next_idx)\n",
    "    \n",
    "    return \" \".join(reply_words)"
   ]
  },
  {
   "cell_type": "code",
   "execution_count": 74,
   "id": "e7d316ea",
   "metadata": {},
   "outputs": [
    {
     "name": "stdout",
     "output_type": "stream",
     "text": [
      "Input: Hi\n",
      "Reply: start start start start start start start start start start\n"
     ]
    }
   ],
   "source": [
    "input_text = \"Hi\"\n",
    "\n",
    "print(\"Input:\", input_text)\n",
    "\n",
    "print(\"Reply:\", generate_reply(input_text))"
   ]
  },
  {
   "cell_type": "markdown",
   "id": "050a8a77",
   "metadata": {},
   "source": [
    "# Real Dataset"
   ]
  },
  {
   "cell_type": "code",
   "execution_count": 2,
   "id": "3584a706",
   "metadata": {},
   "outputs": [],
   "source": [
    "df = pd.read_csv(\"train.csv\")  "
   ]
  },
  {
   "cell_type": "code",
   "execution_count": 26,
   "id": "1c7fd17b",
   "metadata": {},
   "outputs": [
    {
     "name": "stdout",
     "output_type": "stream",
     "text": [
      "                                              dialog                    act  \\\n",
      "0  ['Say , Jim , how about going for a few beers ...  [3 4 2 2 2 3 4 1 3 4]   \n",
      "1  ['Can you do push-ups ? '\\n \" Of course I can ...          [2 1 2 2 1 1]   \n",
      "2  ['Can you study with the radio on ? '\\n ' No ,...            [2 1 2 1 1]   \n",
      "3  ['Are you all right ? '\\n ' I will be all righ...              [2 1 1 1]   \n",
      "4  ['Hey John , nice skates . Are they new ? '\\n ...    [2 1 2 1 1 2 1 3 4]   \n",
      "\n",
      "                 emotion  \n",
      "0  [0 0 0 0 0 0 4 4 4 4]  \n",
      "1          [0 0 6 0 0 0]  \n",
      "2            [0 0 0 0 0]  \n",
      "3              [0 0 0 0]  \n",
      "4    [0 0 0 0 0 6 0 6 0]  \n",
      "                                                   dialog        act  \\\n",
      "count                                               11118      11118   \n",
      "unique                                              10549       5005   \n",
      "top     ['Can I help you find something ? ' ' I would ...  [2 1 2 1]   \n",
      "freq                                                    3        344   \n",
      "\n",
      "          emotion  \n",
      "count       11118  \n",
      "unique       2453  \n",
      "top     [0 0 0 0]  \n",
      "freq         1264  \n",
      "<class 'pandas.core.frame.DataFrame'>\n",
      "RangeIndex: 11118 entries, 0 to 11117\n",
      "Data columns (total 3 columns):\n",
      " #   Column   Non-Null Count  Dtype \n",
      "---  ------   --------------  ----- \n",
      " 0   dialog   11118 non-null  object\n",
      " 1   act      11118 non-null  object\n",
      " 2   emotion  11118 non-null  object\n",
      "dtypes: object(3)\n",
      "memory usage: 260.7+ KB\n",
      "None\n",
      "(11118, 3)\n"
     ]
    }
   ],
   "source": [
    "print(df.head())\n",
    "print(df.describe())\n",
    "print(df.info())\n",
    "print(df.shape)"
   ]
  },
  {
   "cell_type": "code",
   "execution_count": 27,
   "id": "1676e534",
   "metadata": {},
   "outputs": [
    {
     "name": "stdout",
     "output_type": "stream",
     "text": [
      "dialog     ['Say , Jim , how about going for a few beers ...\n",
      "act                                    [3 4 2 2 2 3 4 1 3 4]\n",
      "emotion                                [0 0 0 0 0 0 4 4 4 4]\n",
      "Name: 0, dtype: object\n",
      "['Say , Jim , how about going for a few beers after dinner ? '\n",
      " ' You know that is tempting but is really not good for our fitness . '\n",
      " ' What do you mean ? It will help us to relax . '\n",
      " \" Do you really think so ? I don't . It will just make us fat and act silly . Remember last time ? \"\n",
      " \" I guess you are right.But what shall we do ? I don't feel like sitting at home . \"\n",
      " ' I suggest a walk over to the gym where we can play singsong and meet some of our friends . '\n",
      " \" That's a good idea . I hear Mary and Sally often go there to play pingpong.Perhaps we can make a foursome with them . \"\n",
      " ' Sounds great to me ! If they are willing , we could ask them to go dancing with us.That is excellent exercise and fun , too . '\n",
      " \" Good.Let ' s go now . \" ' All right . ']\n",
      "<class 'str'>\n"
     ]
    },
    {
     "name": "stderr",
     "output_type": "stream",
     "text": [
      "C:\\Users\\Sina's Pc\\AppData\\Local\\Temp\\ipykernel_21832\\4159947092.py:2: FutureWarning: Series.__getitem__ treating keys as positions is deprecated. In a future version, integer keys will always be treated as labels (consistent with DataFrame behavior). To access a value by position, use `ser.iloc[pos]`\n",
      "  dialog=df.iloc[0][0]\n"
     ]
    }
   ],
   "source": [
    "print(df.iloc[0])\n",
    "dialog=df.iloc[0][0]\n",
    "print(dialog)\n",
    "print(type(df['dialog'].iloc[0]))"
   ]
  },
  {
   "cell_type": "code",
   "execution_count": 75,
   "id": "9595af78",
   "metadata": {},
   "outputs": [
    {
     "ename": "NameError",
     "evalue": "name 'df' is not defined",
     "output_type": "error",
     "traceback": [
      "\u001b[1;31m---------------------------------------------------------------------------\u001b[0m",
      "\u001b[1;31mNameError\u001b[0m                                 Traceback (most recent call last)",
      "Cell \u001b[1;32mIn[75], line 3\u001b[0m\n\u001b[0;32m      1\u001b[0m pairs \u001b[38;5;241m=\u001b[39m []\n\u001b[1;32m----> 3\u001b[0m \u001b[38;5;28;01mfor\u001b[39;00m idx, row \u001b[38;5;129;01min\u001b[39;00m \u001b[43mdf\u001b[49m\u001b[38;5;241m.\u001b[39miterrows():\n\u001b[0;32m      4\u001b[0m     text \u001b[38;5;241m=\u001b[39m row[\u001b[38;5;124m'\u001b[39m\u001b[38;5;124mdialog\u001b[39m\u001b[38;5;124m'\u001b[39m]\n\u001b[0;32m      6\u001b[0m     text \u001b[38;5;241m=\u001b[39m text\u001b[38;5;241m.\u001b[39mstrip(\u001b[38;5;124m\"\u001b[39m\u001b[38;5;124m[]\u001b[39m\u001b[38;5;124m\"\u001b[39m)              \n",
      "\u001b[1;31mNameError\u001b[0m: name 'df' is not defined"
     ]
    }
   ],
   "source": [
    "pairs = []\n",
    "\n",
    "for idx, row in df.iterrows():\n",
    "    text = row['dialog']\n",
    "    \n",
    "    text = text.strip(\"[]\")              \n",
    "    text = text.replace(\"'\", \"\")         \n",
    "    text = text.replace('\"', \"\")        \n",
    "\n",
    "    utterances = [u.strip() for u in text.split(\",\") if u.strip() != \"\"]\n",
    "    \n",
    "    for i in range(len(utterances)-1):\n",
    "        pairs.append((utterances[i], utterances[i+1]))\n",
    "\n",
    "print(len(pairs))\n",
    "print(pairs[:1])"
   ]
  },
  {
   "cell_type": "code",
   "execution_count": null,
   "id": "8ff7b68b",
   "metadata": {},
   "outputs": [],
   "source": []
  }
 ],
 "metadata": {
  "kernelspec": {
   "display_name": "env",
   "language": "python",
   "name": "python3"
  },
  "language_info": {
   "codemirror_mode": {
    "name": "ipython",
    "version": 3
   },
   "file_extension": ".py",
   "mimetype": "text/x-python",
   "name": "python",
   "nbconvert_exporter": "python",
   "pygments_lexer": "ipython3",
   "version": "3.10.10"
  }
 },
 "nbformat": 4,
 "nbformat_minor": 5
}
